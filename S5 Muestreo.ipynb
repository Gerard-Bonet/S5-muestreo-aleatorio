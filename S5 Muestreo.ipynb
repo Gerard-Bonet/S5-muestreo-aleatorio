{
 "cells": [
  {
   "cell_type": "code",
   "execution_count": 32,
   "id": "124fff0c",
   "metadata": {},
   "outputs": [],
   "source": [
    "import sqlite3\n",
    "import pandas as pd\n",
    "import sqlalchemy\n",
    "import numpy as np"
   ]
  },
  {
   "cell_type": "markdown",
   "id": "06fef4b0",
   "metadata": {},
   "source": [
    "# MÉTODOS DE MUESTREO"
   ]
  },
  {
   "cell_type": "markdown",
   "id": "26e3124e",
   "metadata": {},
   "source": [
    "\n",
    "Vamos a realizar un muestreo sobre datos de fútbol. He intentado conseguir una base de datos real de algún equipo que trabaje\n",
    "\n",
    "con Big Data, como el Manchester City, pero la mayoría de información en internet es de pago, así que he usado la base\n",
    "\n",
    "de datos más grande que he encontrado, que aunque es interesante, es la base de datos de un  videojuego muy conocido, \n",
    "\n",
    "pero servirá para ilustrar un muestreo. "
   ]
  },
  {
   "cell_type": "code",
   "execution_count": 145,
   "id": "00cac68e",
   "metadata": {},
   "outputs": [
    {
     "data": {
      "text/html": [
       "<div>\n",
       "<style scoped>\n",
       "    .dataframe tbody tr th:only-of-type {\n",
       "        vertical-align: middle;\n",
       "    }\n",
       "\n",
       "    .dataframe tbody tr th {\n",
       "        vertical-align: top;\n",
       "    }\n",
       "\n",
       "    .dataframe thead th {\n",
       "        text-align: right;\n",
       "    }\n",
       "</style>\n",
       "<table border=\"1\" class=\"dataframe\">\n",
       "  <thead>\n",
       "    <tr style=\"text-align: right;\">\n",
       "      <th></th>\n",
       "      <th>id</th>\n",
       "      <th>player_fifa_api_id</th>\n",
       "      <th>player_api_id</th>\n",
       "      <th>date</th>\n",
       "      <th>overall_rating</th>\n",
       "      <th>potential</th>\n",
       "      <th>preferred_foot</th>\n",
       "      <th>attacking_work_rate</th>\n",
       "      <th>defensive_work_rate</th>\n",
       "      <th>crossing</th>\n",
       "      <th>...</th>\n",
       "      <th>vision</th>\n",
       "      <th>penalties</th>\n",
       "      <th>marking</th>\n",
       "      <th>standing_tackle</th>\n",
       "      <th>sliding_tackle</th>\n",
       "      <th>gk_diving</th>\n",
       "      <th>gk_handling</th>\n",
       "      <th>gk_kicking</th>\n",
       "      <th>gk_positioning</th>\n",
       "      <th>gk_reflexes</th>\n",
       "    </tr>\n",
       "  </thead>\n",
       "  <tbody>\n",
       "    <tr>\n",
       "      <th>0</th>\n",
       "      <td>1</td>\n",
       "      <td>218353</td>\n",
       "      <td>505942</td>\n",
       "      <td>2016-02-18 00:00:00</td>\n",
       "      <td>67.0</td>\n",
       "      <td>71.0</td>\n",
       "      <td>right</td>\n",
       "      <td>medium</td>\n",
       "      <td>medium</td>\n",
       "      <td>49.0</td>\n",
       "      <td>...</td>\n",
       "      <td>54.0</td>\n",
       "      <td>48.0</td>\n",
       "      <td>65.0</td>\n",
       "      <td>69.0</td>\n",
       "      <td>69.0</td>\n",
       "      <td>6.0</td>\n",
       "      <td>11.0</td>\n",
       "      <td>10.0</td>\n",
       "      <td>8.0</td>\n",
       "      <td>8.0</td>\n",
       "    </tr>\n",
       "    <tr>\n",
       "      <th>1</th>\n",
       "      <td>2</td>\n",
       "      <td>218353</td>\n",
       "      <td>505942</td>\n",
       "      <td>2015-11-19 00:00:00</td>\n",
       "      <td>67.0</td>\n",
       "      <td>71.0</td>\n",
       "      <td>right</td>\n",
       "      <td>medium</td>\n",
       "      <td>medium</td>\n",
       "      <td>49.0</td>\n",
       "      <td>...</td>\n",
       "      <td>54.0</td>\n",
       "      <td>48.0</td>\n",
       "      <td>65.0</td>\n",
       "      <td>69.0</td>\n",
       "      <td>69.0</td>\n",
       "      <td>6.0</td>\n",
       "      <td>11.0</td>\n",
       "      <td>10.0</td>\n",
       "      <td>8.0</td>\n",
       "      <td>8.0</td>\n",
       "    </tr>\n",
       "    <tr>\n",
       "      <th>2</th>\n",
       "      <td>3</td>\n",
       "      <td>218353</td>\n",
       "      <td>505942</td>\n",
       "      <td>2015-09-21 00:00:00</td>\n",
       "      <td>62.0</td>\n",
       "      <td>66.0</td>\n",
       "      <td>right</td>\n",
       "      <td>medium</td>\n",
       "      <td>medium</td>\n",
       "      <td>49.0</td>\n",
       "      <td>...</td>\n",
       "      <td>54.0</td>\n",
       "      <td>48.0</td>\n",
       "      <td>65.0</td>\n",
       "      <td>66.0</td>\n",
       "      <td>69.0</td>\n",
       "      <td>6.0</td>\n",
       "      <td>11.0</td>\n",
       "      <td>10.0</td>\n",
       "      <td>8.0</td>\n",
       "      <td>8.0</td>\n",
       "    </tr>\n",
       "    <tr>\n",
       "      <th>3</th>\n",
       "      <td>4</td>\n",
       "      <td>218353</td>\n",
       "      <td>505942</td>\n",
       "      <td>2015-03-20 00:00:00</td>\n",
       "      <td>61.0</td>\n",
       "      <td>65.0</td>\n",
       "      <td>right</td>\n",
       "      <td>medium</td>\n",
       "      <td>medium</td>\n",
       "      <td>48.0</td>\n",
       "      <td>...</td>\n",
       "      <td>53.0</td>\n",
       "      <td>47.0</td>\n",
       "      <td>62.0</td>\n",
       "      <td>63.0</td>\n",
       "      <td>66.0</td>\n",
       "      <td>5.0</td>\n",
       "      <td>10.0</td>\n",
       "      <td>9.0</td>\n",
       "      <td>7.0</td>\n",
       "      <td>7.0</td>\n",
       "    </tr>\n",
       "    <tr>\n",
       "      <th>4</th>\n",
       "      <td>5</td>\n",
       "      <td>218353</td>\n",
       "      <td>505942</td>\n",
       "      <td>2007-02-22 00:00:00</td>\n",
       "      <td>61.0</td>\n",
       "      <td>65.0</td>\n",
       "      <td>right</td>\n",
       "      <td>medium</td>\n",
       "      <td>medium</td>\n",
       "      <td>48.0</td>\n",
       "      <td>...</td>\n",
       "      <td>53.0</td>\n",
       "      <td>47.0</td>\n",
       "      <td>62.0</td>\n",
       "      <td>63.0</td>\n",
       "      <td>66.0</td>\n",
       "      <td>5.0</td>\n",
       "      <td>10.0</td>\n",
       "      <td>9.0</td>\n",
       "      <td>7.0</td>\n",
       "      <td>7.0</td>\n",
       "    </tr>\n",
       "  </tbody>\n",
       "</table>\n",
       "<p>5 rows × 42 columns</p>\n",
       "</div>"
      ],
      "text/plain": [
       "   id  player_fifa_api_id  player_api_id                 date  overall_rating  \\\n",
       "0   1              218353         505942  2016-02-18 00:00:00            67.0   \n",
       "1   2              218353         505942  2015-11-19 00:00:00            67.0   \n",
       "2   3              218353         505942  2015-09-21 00:00:00            62.0   \n",
       "3   4              218353         505942  2015-03-20 00:00:00            61.0   \n",
       "4   5              218353         505942  2007-02-22 00:00:00            61.0   \n",
       "\n",
       "   potential preferred_foot attacking_work_rate defensive_work_rate  crossing  \\\n",
       "0       71.0          right              medium              medium      49.0   \n",
       "1       71.0          right              medium              medium      49.0   \n",
       "2       66.0          right              medium              medium      49.0   \n",
       "3       65.0          right              medium              medium      48.0   \n",
       "4       65.0          right              medium              medium      48.0   \n",
       "\n",
       "   ...  vision  penalties  marking  standing_tackle  sliding_tackle  \\\n",
       "0  ...    54.0       48.0     65.0             69.0            69.0   \n",
       "1  ...    54.0       48.0     65.0             69.0            69.0   \n",
       "2  ...    54.0       48.0     65.0             66.0            69.0   \n",
       "3  ...    53.0       47.0     62.0             63.0            66.0   \n",
       "4  ...    53.0       47.0     62.0             63.0            66.0   \n",
       "\n",
       "   gk_diving  gk_handling  gk_kicking  gk_positioning  gk_reflexes  \n",
       "0        6.0         11.0        10.0             8.0          8.0  \n",
       "1        6.0         11.0        10.0             8.0          8.0  \n",
       "2        6.0         11.0        10.0             8.0          8.0  \n",
       "3        5.0         10.0         9.0             7.0          7.0  \n",
       "4        5.0         10.0         9.0             7.0          7.0  \n",
       "\n",
       "[5 rows x 42 columns]"
      ]
     },
     "execution_count": 145,
     "metadata": {},
     "output_type": "execute_result"
    }
   ],
   "source": [
    "con= sqlite3.connect(\"database.sqlite\")# importamos la base de datos. \n",
    "\n",
    "\n",
    "df = pd.read_sql_query( \"SELECT * from Player_Attributes\", con)\n",
    "df.head()"
   ]
  },
  {
   "cell_type": "code",
   "execution_count": 146,
   "id": "c488191d",
   "metadata": {},
   "outputs": [
    {
     "data": {
      "text/plain": [
       "Index(['id', 'player_fifa_api_id', 'player_api_id', 'date', 'overall_rating',\n",
       "       'potential', 'preferred_foot', 'attacking_work_rate',\n",
       "       'defensive_work_rate', 'crossing', 'finishing', 'heading_accuracy',\n",
       "       'short_passing', 'volleys', 'dribbling', 'curve', 'free_kick_accuracy',\n",
       "       'long_passing', 'ball_control', 'acceleration', 'sprint_speed',\n",
       "       'agility', 'reactions', 'balance', 'shot_power', 'jumping', 'stamina',\n",
       "       'strength', 'long_shots', 'aggression', 'interceptions', 'positioning',\n",
       "       'vision', 'penalties', 'marking', 'standing_tackle', 'sliding_tackle',\n",
       "       'gk_diving', 'gk_handling', 'gk_kicking', 'gk_positioning',\n",
       "       'gk_reflexes'],\n",
       "      dtype='object')"
      ]
     },
     "execution_count": 146,
     "metadata": {},
     "output_type": "execute_result"
    }
   ],
   "source": [
    "df.columns# miramos las columnas"
   ]
  },
  {
   "cell_type": "code",
   "execution_count": 147,
   "id": "cf5003bd",
   "metadata": {},
   "outputs": [
    {
     "data": {
      "text/plain": [
       "(183978, 42)"
      ]
     },
     "execution_count": 147,
     "metadata": {},
     "output_type": "execute_result"
    }
   ],
   "source": [
    "df.shape# así como las dimensiones "
   ]
  },
  {
   "cell_type": "code",
   "execution_count": 42,
   "id": "7232ef4f",
   "metadata": {},
   "outputs": [],
   "source": [
    "# Para ilustrar dos técnicas de muestreo aleatorias, sistemática y simple, vamos a quedarnos con tan sólo tres variables, \n",
    "# una categórica, y dos numéricas: \n",
    "# preferred_foot, agility, crossing.\n",
    "\n",
    "dff= df [[\"preferred_foot\", \"agility\", \"crossing\"]]\n",
    "\n"
   ]
  },
  {
   "cell_type": "markdown",
   "id": "0b3a330e",
   "metadata": {},
   "source": [
    " Nuestro punto de partida será un __*muestreo piloto*__ lo suficientemente amplío para calcular la desviación estandar de cada \n",
    "variable numéricas, así como los porcentajes de la categórica. Supondremos que la única información de la que dispondremos será la población total, N = len (dff), por lo que **vamos a ignorar toda la información del data set que no obtengamos de las muestras, salvo N**\n",
    " \n",
    " Una vez, estimdas las dos desviaciones, y los porcentajes de la variable categórica, las usaremos como información pasada, para estimar el tamaño de la muestra, **n**. Por cada variable habrá un número de muestra mínimo dentro de un coeficiente de confianza, inventado, y un error relativo máximo. Para ello sacaremos el cáclulo del Estimador insesgado de la Media de la muestra, y de la proporción de clase. \n",
    " \n",
    " Teorías explicadas y demostradas en los siguientes enlaces. \n",
    " http://matematicas.unex.es/~inmatorres/teaching/muestreo/assets/Cap1.pdf\n",
    " http://matematicas.unex.es/~inmatorres/teaching/muestreo/assets/Cap_3.pdf\n",
    " http://matematicas.unex.es/~inmatorres/teaching/muestreo/assets/cap_5.pdf\n",
    " \n",
    " Llegando a dos fórmulas. \n",
    " \n",
    "\n",
    "\n",
    "* \\begin{aligned}\\cdot \\\\ n=\\dfrac{NZ^{2}\\sigma ^{2}}{\\left( N-1\\right)  E^{2}+z^{2}\\sigma ^{2}}\\end{aligned}\n",
    "\n",
    "\n",
    "* \\begin{aligned}\\cdot \\\\  n=\\dfrac{Z^{2}Npq}{\\left( N-1\\right) e^{2}+Z^{2}pq}\\end{aligned}"
   ]
  },
  {
   "cell_type": "code",
   "execution_count": 45,
   "id": "762bb516",
   "metadata": {},
   "outputs": [
    {
     "data": {
      "text/html": [
       "<div>\n",
       "<style scoped>\n",
       "    .dataframe tbody tr th:only-of-type {\n",
       "        vertical-align: middle;\n",
       "    }\n",
       "\n",
       "    .dataframe tbody tr th {\n",
       "        vertical-align: top;\n",
       "    }\n",
       "\n",
       "    .dataframe thead th {\n",
       "        text-align: right;\n",
       "    }\n",
       "</style>\n",
       "<table border=\"1\" class=\"dataframe\">\n",
       "  <thead>\n",
       "    <tr style=\"text-align: right;\">\n",
       "      <th></th>\n",
       "      <th>preferred_foot</th>\n",
       "      <th>agility</th>\n",
       "      <th>crossing</th>\n",
       "    </tr>\n",
       "  </thead>\n",
       "  <tbody>\n",
       "    <tr>\n",
       "      <th>58809</th>\n",
       "      <td>left</td>\n",
       "      <td>51.0</td>\n",
       "      <td>25.0</td>\n",
       "    </tr>\n",
       "    <tr>\n",
       "      <th>145672</th>\n",
       "      <td>left</td>\n",
       "      <td>79.0</td>\n",
       "      <td>80.0</td>\n",
       "    </tr>\n",
       "    <tr>\n",
       "      <th>40686</th>\n",
       "      <td>left</td>\n",
       "      <td>72.0</td>\n",
       "      <td>71.0</td>\n",
       "    </tr>\n",
       "    <tr>\n",
       "      <th>98544</th>\n",
       "      <td>right</td>\n",
       "      <td>65.0</td>\n",
       "      <td>46.0</td>\n",
       "    </tr>\n",
       "    <tr>\n",
       "      <th>179885</th>\n",
       "      <td>right</td>\n",
       "      <td>62.0</td>\n",
       "      <td>47.0</td>\n",
       "    </tr>\n",
       "  </tbody>\n",
       "</table>\n",
       "</div>"
      ],
      "text/plain": [
       "       preferred_foot  agility  crossing\n",
       "58809            left     51.0      25.0\n",
       "145672           left     79.0      80.0\n",
       "40686            left     72.0      71.0\n",
       "98544           right     65.0      46.0\n",
       "179885          right     62.0      47.0"
      ]
     },
     "execution_count": 45,
     "metadata": {},
     "output_type": "execute_result"
    }
   ],
   "source": [
    "# Primero de todo escogemos una muestra aleatoria simple, que nos servirá para obtener ciertos parámetros para luego usar como\n",
    "# referencia bibliográfica\n",
    "\n",
    "piloto = dff.sample(n = 300)\n",
    "\n",
    "piloto.head()\n"
   ]
  },
  {
   "cell_type": "code",
   "execution_count": 148,
   "id": "756115ed",
   "metadata": {},
   "outputs": [
    {
     "data": {
      "text/html": [
       "<div>\n",
       "<style scoped>\n",
       "    .dataframe tbody tr th:only-of-type {\n",
       "        vertical-align: middle;\n",
       "    }\n",
       "\n",
       "    .dataframe tbody tr th {\n",
       "        vertical-align: top;\n",
       "    }\n",
       "\n",
       "    .dataframe thead th {\n",
       "        text-align: right;\n",
       "    }\n",
       "</style>\n",
       "<table border=\"1\" class=\"dataframe\">\n",
       "  <thead>\n",
       "    <tr style=\"text-align: right;\">\n",
       "      <th></th>\n",
       "      <th>agility</th>\n",
       "      <th>crossing</th>\n",
       "    </tr>\n",
       "  </thead>\n",
       "  <tbody>\n",
       "    <tr>\n",
       "      <th>count</th>\n",
       "      <td>295.000000</td>\n",
       "      <td>297.000000</td>\n",
       "    </tr>\n",
       "    <tr>\n",
       "      <th>mean</th>\n",
       "      <td>65.118644</td>\n",
       "      <td>54.855219</td>\n",
       "    </tr>\n",
       "    <tr>\n",
       "      <th>std</th>\n",
       "      <td>13.937036</td>\n",
       "      <td>16.946734</td>\n",
       "    </tr>\n",
       "    <tr>\n",
       "      <th>min</th>\n",
       "      <td>23.000000</td>\n",
       "      <td>8.000000</td>\n",
       "    </tr>\n",
       "    <tr>\n",
       "      <th>25%</th>\n",
       "      <td>58.000000</td>\n",
       "      <td>47.000000</td>\n",
       "    </tr>\n",
       "    <tr>\n",
       "      <th>50%</th>\n",
       "      <td>67.000000</td>\n",
       "      <td>58.000000</td>\n",
       "    </tr>\n",
       "    <tr>\n",
       "      <th>75%</th>\n",
       "      <td>74.000000</td>\n",
       "      <td>67.000000</td>\n",
       "    </tr>\n",
       "    <tr>\n",
       "      <th>max</th>\n",
       "      <td>94.000000</td>\n",
       "      <td>86.000000</td>\n",
       "    </tr>\n",
       "  </tbody>\n",
       "</table>\n",
       "</div>"
      ],
      "text/plain": [
       "          agility    crossing\n",
       "count  295.000000  297.000000\n",
       "mean    65.118644   54.855219\n",
       "std     13.937036   16.946734\n",
       "min     23.000000    8.000000\n",
       "25%     58.000000   47.000000\n",
       "50%     67.000000   58.000000\n",
       "75%     74.000000   67.000000\n",
       "max     94.000000   86.000000"
      ]
     },
     "execution_count": 148,
     "metadata": {},
     "output_type": "execute_result"
    }
   ],
   "source": [
    "D1 = 13.93 # desviación para la variable agility\n",
    "D2 = 16.95 # desviación para crossing. \n",
    "piloto.describe() # sacamos información estadística sobre la prueba piloto. Y de ahí sacamos la desviación de ambas \n",
    "# variables cuantificables. \n",
    "\n"
   ]
  },
  {
   "cell_type": "code",
   "execution_count": 149,
   "id": "ada54930",
   "metadata": {},
   "outputs": [
    {
     "data": {
      "text/plain": [
       "<AxesSubplot:ylabel='Frequency'>"
      ]
     },
     "execution_count": 149,
     "metadata": {},
     "output_type": "execute_result"
    },
    {
     "data": {
      "image/png": "[encoded data removed]",
      "text/plain": [
       "<Figure size 360x360 with 1 Axes>"
      ]
     },
     "metadata": {
      "needs_background": "light"
     },
     "output_type": "display_data"
    }
   ],
   "source": [
    "import matplotlib.pyplot as plt\n",
    "piloto[\"agility\"].plot (kind = \"hist\", bins = 15\n",
    "                        , figsize= (5,5))\n",
    "\n",
    "# Hacemos una observación gráfica de las dos variables, y podemos ver que tiene una cierta tendencia a una normal. \n",
    "# al ser la media una variable aleatoriam( ya que depende del tamaño de la muestrta y de los elementos seleccionados u(i)), \n",
    "# para n tendiendo a infinito, tiende a una normal( Teorema del límite Central)\n",
    "\n"
   ]
  },
  {
   "cell_type": "code",
   "execution_count": 63,
   "id": "f7bad3f1",
   "metadata": {},
   "outputs": [
    {
     "data": {
      "text/plain": [
       "<AxesSubplot:ylabel='Frequency'>"
      ]
     },
     "execution_count": 63,
     "metadata": {},
     "output_type": "execute_result"
    },
    {
     "data": {
      "image/png": "[encoded data removed]",
      "text/plain": [
       "<Figure size 360x360 with 1 Axes>"
      ]
     },
     "metadata": {
      "needs_background": "light"
     },
     "output_type": "display_data"
    }
   ],
   "source": [
    "piloto[\"crossing\"].plot (kind = \"hist\", bins = 15\n",
    "                        , figsize= (5,5))"
   ]
  },
  {
   "cell_type": "code",
   "execution_count": 150,
   "id": "fff87a61",
   "metadata": {},
   "outputs": [
    {
     "data": {
      "text/plain": [
       "right    231\n",
       "left      66\n",
       "Name: preferred_foot, dtype: int64"
      ]
     },
     "execution_count": 150,
     "metadata": {},
     "output_type": "execute_result"
    }
   ],
   "source": [
    "# por últimos nos falta anailzar los valores de la variable preferred_foot\n",
    "piloto[\"preferred_foot\"].value_counts()"
   ]
  },
  {
   "cell_type": "code",
   "execution_count": 69,
   "id": "994a914c",
   "metadata": {},
   "outputs": [
    {
     "name": "stdout",
     "output_type": "stream",
     "text": [
      "0.7777777777777778\n"
     ]
    }
   ],
   "source": [
    "total= 231+66\n",
    "p= 231/total\n",
    "print (p)# p es la posibilidad de que sea diestro, aunque el porcentaje mundial de diestros es del 90%, es más que probable \n",
    "# que para un deporte en que la simetría respecto al terreno de juego tienen importancia relativa, haya un porcentaje de \n",
    "# zurdos mayor a lo que toca. \n",
    "q = 1-p"
   ]
  },
  {
   "cell_type": "code",
   "execution_count": 151,
   "id": "fb0ef719",
   "metadata": {},
   "outputs": [],
   "source": [
    "# definimos n1,n2,n3 como los tamaños de la muestra mínimos, pata un coeficiente de confianza del 70 % con un margen de error \n",
    "# relativo del 10 %, tanto si tienen una tendencia normal o no, podemos usar el cuantil de la media Z( vía normal o desigualdad de\n",
    "# Chebyshev si no cumple con una tendencia a la media). Esto nos dice que para un tamaño n de una muestra, hay un 70% de que \n",
    "# las propiedades de la población total, se encuentren representadas en la muestra \n",
    "# Z para una confianza del 70 % es de 0,53, y el error relativo E = 0.1\n",
    "E= 0.1\n",
    "Z= 0.53\n",
    "N = len (dff)\n",
    "# sumando al resto de variables para calcular el tamaño de la muestra , N, D1, D2,p, q\n",
    "# repasando la fórmula de la extracción del tamaño de la muestra ."
   ]
  },
  {
   "cell_type": "markdown",
   "id": "e8421b3d",
   "metadata": {},
   "source": [
    "* \\begin{aligned}\\cdot \\\\ n=\\dfrac{NZ^{2}\\sigma ^{2}}{\\left( N-1\\right)  E^{2}+z^{2}\\sigma ^{2}}\\end{aligned}\n",
    "\n",
    "\n",
    "* \\begin{aligned}\\cdot \\\\  n=\\dfrac{Z^{2}Npq}{\\left( N-1\\right) e^{2}+Z^{2}pq}\\end{aligned}"
   ]
  },
  {
   "cell_type": "code",
   "execution_count": 127,
   "id": "64560f0f",
   "metadata": {},
   "outputs": [
    {
     "name": "stdout",
     "output_type": "stream",
     "text": [
      "5293.907279816063 7731.233147866318 4.854959997913803\n"
     ]
    }
   ],
   "source": [
    "n1= (N* (Z**2) * (D1**2))/ ( (N-1)*(E**2) + (D1**2)* (Z**2)    )\n",
    "n2= (N* (Z**2) * (D2**2))/ ( (N-1)*(E**2) + (D2**2)* (Z**2) )\n",
    "n3= (N* (Z**2) * (p*q))/ ( (N-1)*(E**2) + (p*q)* (Z**2)   )\n",
    "\n",
    "print (n1,n2,n3)\n",
    "\n",
    "\n",
    "     "
   ]
  },
  {
   "cell_type": "code",
   "execution_count": 128,
   "id": "0f8a5076",
   "metadata": {},
   "outputs": [
    {
     "name": "stdout",
     "output_type": "stream",
     "text": [
      "4.2 %\n"
     ]
    }
   ],
   "source": [
    "# viendo que el resultado más grande es n2, tomaremos 7723 para el tamaño de la muestra\n",
    "n2= int(round(n2,0))\n",
    "print (round((n2/N *100),2), \"%\") # el procentaje de la muestra respecto al total."
   ]
  },
  {
   "cell_type": "code",
   "execution_count": 129,
   "id": "00d53dff",
   "metadata": {},
   "outputs": [
    {
     "name": "stdout",
     "output_type": "stream",
     "text": [
      "7731\n"
     ]
    }
   ],
   "source": [
    "print (n2)"
   ]
  },
  {
   "cell_type": "code",
   "execution_count": 108,
   "id": "a022f0e6",
   "metadata": {},
   "outputs": [
    {
     "data": {
      "text/html": [
       "<div>\n",
       "<style scoped>\n",
       "    .dataframe tbody tr th:only-of-type {\n",
       "        vertical-align: middle;\n",
       "    }\n",
       "\n",
       "    .dataframe tbody tr th {\n",
       "        vertical-align: top;\n",
       "    }\n",
       "\n",
       "    .dataframe thead th {\n",
       "        text-align: right;\n",
       "    }\n",
       "</style>\n",
       "<table border=\"1\" class=\"dataframe\">\n",
       "  <thead>\n",
       "    <tr style=\"text-align: right;\">\n",
       "      <th></th>\n",
       "      <th>preferred_foot</th>\n",
       "      <th>agility</th>\n",
       "      <th>crossing</th>\n",
       "    </tr>\n",
       "  </thead>\n",
       "  <tbody>\n",
       "    <tr>\n",
       "      <th>123305</th>\n",
       "      <td>right</td>\n",
       "      <td>46.0</td>\n",
       "      <td>31.0</td>\n",
       "    </tr>\n",
       "    <tr>\n",
       "      <th>87634</th>\n",
       "      <td>right</td>\n",
       "      <td>51.0</td>\n",
       "      <td>31.0</td>\n",
       "    </tr>\n",
       "    <tr>\n",
       "      <th>28895</th>\n",
       "      <td>left</td>\n",
       "      <td>88.0</td>\n",
       "      <td>73.0</td>\n",
       "    </tr>\n",
       "    <tr>\n",
       "      <th>32509</th>\n",
       "      <td>right</td>\n",
       "      <td>58.0</td>\n",
       "      <td>48.0</td>\n",
       "    </tr>\n",
       "    <tr>\n",
       "      <th>156494</th>\n",
       "      <td>right</td>\n",
       "      <td>68.0</td>\n",
       "      <td>67.0</td>\n",
       "    </tr>\n",
       "  </tbody>\n",
       "</table>\n",
       "</div>"
      ],
      "text/plain": [
       "       preferred_foot  agility  crossing\n",
       "123305          right     46.0      31.0\n",
       "87634           right     51.0      31.0\n",
       "28895            left     88.0      73.0\n",
       "32509           right     58.0      48.0\n",
       "156494          right     68.0      67.0"
      ]
     },
     "execution_count": 108,
     "metadata": {},
     "output_type": "execute_result"
    }
   ],
   "source": [
    "# Así que el muestreo aleatoria simple es \n",
    "df1 = dff.sample(n = n2)\n",
    "\n",
    "df1.head()"
   ]
  },
  {
   "cell_type": "code",
   "execution_count": 111,
   "id": "41af1e4c",
   "metadata": {},
   "outputs": [
    {
     "data": {
      "text/html": [
       "<div>\n",
       "<style scoped>\n",
       "    .dataframe tbody tr th:only-of-type {\n",
       "        vertical-align: middle;\n",
       "    }\n",
       "\n",
       "    .dataframe tbody tr th {\n",
       "        vertical-align: top;\n",
       "    }\n",
       "\n",
       "    .dataframe thead th {\n",
       "        text-align: right;\n",
       "    }\n",
       "</style>\n",
       "<table border=\"1\" class=\"dataframe\">\n",
       "  <thead>\n",
       "    <tr style=\"text-align: right;\">\n",
       "      <th></th>\n",
       "      <th>agility</th>\n",
       "      <th>crossing</th>\n",
       "    </tr>\n",
       "  </thead>\n",
       "  <tbody>\n",
       "    <tr>\n",
       "      <th>count</th>\n",
       "      <td>7626.000000</td>\n",
       "      <td>7691.000000</td>\n",
       "    </tr>\n",
       "    <tr>\n",
       "      <th>mean</th>\n",
       "      <td>66.182533</td>\n",
       "      <td>55.119100</td>\n",
       "    </tr>\n",
       "    <tr>\n",
       "      <th>std</th>\n",
       "      <td>12.847892</td>\n",
       "      <td>17.298657</td>\n",
       "    </tr>\n",
       "    <tr>\n",
       "      <th>min</th>\n",
       "      <td>16.000000</td>\n",
       "      <td>3.000000</td>\n",
       "    </tr>\n",
       "    <tr>\n",
       "      <th>25%</th>\n",
       "      <td>59.000000</td>\n",
       "      <td>45.000000</td>\n",
       "    </tr>\n",
       "    <tr>\n",
       "      <th>50%</th>\n",
       "      <td>68.000000</td>\n",
       "      <td>59.000000</td>\n",
       "    </tr>\n",
       "    <tr>\n",
       "      <th>75%</th>\n",
       "      <td>75.000000</td>\n",
       "      <td>68.000000</td>\n",
       "    </tr>\n",
       "    <tr>\n",
       "      <th>max</th>\n",
       "      <td>95.000000</td>\n",
       "      <td>93.000000</td>\n",
       "    </tr>\n",
       "  </tbody>\n",
       "</table>\n",
       "</div>"
      ],
      "text/plain": [
       "           agility     crossing\n",
       "count  7626.000000  7691.000000\n",
       "mean     66.182533    55.119100\n",
       "std      12.847892    17.298657\n",
       "min      16.000000     3.000000\n",
       "25%      59.000000    45.000000\n",
       "50%      68.000000    59.000000\n",
       "75%      75.000000    68.000000\n",
       "max      95.000000    93.000000"
      ]
     },
     "execution_count": 111,
     "metadata": {},
     "output_type": "execute_result"
    }
   ],
   "source": [
    "df1.describe()# observamos las desviaciones , y vemos que son parecidas, así como la media. "
   ]
  },
  {
   "cell_type": "code",
   "execution_count": 112,
   "id": "d10e27bf",
   "metadata": {},
   "outputs": [
    {
     "data": {
      "text/plain": [
       "right    5835\n",
       "left     1856\n",
       "Name: preferred_foot, dtype: int64"
      ]
     },
     "execution_count": 112,
     "metadata": {},
     "output_type": "execute_result"
    }
   ],
   "source": [
    "df1[\"preferred_foot\"].value_counts()# para mirar el porcentajes de diestros o zurdos, \n"
   ]
  },
  {
   "cell_type": "code",
   "execution_count": 116,
   "id": "5c09eace",
   "metadata": {},
   "outputs": [
    {
     "name": "stdout",
     "output_type": "stream",
     "text": [
      "0.7586789754258224  <  0,7777  obtenido en el piloto\n"
     ]
    }
   ],
   "source": [
    "suma= 5835+1856\n",
    "p2= 5835/suma\n",
    "print (p2, \" <  0,7777  obtenido en el piloto\")"
   ]
  },
  {
   "cell_type": "code",
   "execution_count": 118,
   "id": "384d2ee2",
   "metadata": {},
   "outputs": [
    {
     "data": {
      "text/plain": [
       "<AxesSubplot:ylabel='Frequency'>"
      ]
     },
     "execution_count": 118,
     "metadata": {},
     "output_type": "execute_result"
    },
    {
     "data": {
      "image/png": "[encoded data removed]",
      "text/plain": [
       "<Figure size 360x360 with 1 Axes>"
      ]
     },
     "metadata": {
      "needs_background": "light"
     },
     "output_type": "display_data"
    }
   ],
   "source": [
    "# si miramos los gráficos , podremos ver cierto parecido con el piloto\n",
    "df1[\"agility\"].plot (kind = \"hist\", bins = 15\n",
    "                        , figsize= (5,5))"
   ]
  },
  {
   "cell_type": "code",
   "execution_count": 121,
   "id": "9b00923d",
   "metadata": {},
   "outputs": [
    {
     "data": {
      "text/plain": [
       "<AxesSubplot:ylabel='Frequency'>"
      ]
     },
     "execution_count": 121,
     "metadata": {},
     "output_type": "execute_result"
    },
    {
     "data": {
      "image/png": "[encoded data removed]",
      "text/plain": [
       "<Figure size 360x360 with 1 Axes>"
      ]
     },
     "metadata": {
      "needs_background": "light"
     },
     "output_type": "display_data"
    }
   ],
   "source": [
    "df1[\"crossing\"].plot (kind = \"hist\", bins = 15\n",
    "                        , figsize= (5,5))"
   ]
  },
  {
   "cell_type": "code",
   "execution_count": 135,
   "id": "d13b9292",
   "metadata": {},
   "outputs": [
    {
     "name": "stdout",
     "output_type": "stream",
     "text": [
      "23.797\n"
     ]
    }
   ],
   "source": [
    "# para hacer el nuestreo sistemático, partiremos de un valor u(i), y  a partir de ahí, iremos añadiendo un elemento \n",
    "# a la muestra cada k índices, dónde k = N/ n2, \n",
    "k =round( N/ n2,3)\n",
    "# el primer número elegido u0, lo seleccionamos tal que u0 <= k\n",
    "print (k)"
   ]
  },
  {
   "cell_type": "code",
   "execution_count": 136,
   "id": "8e9a80ee",
   "metadata": {},
   "outputs": [
    {
     "data": {
      "text/html": [
       "<div>\n",
       "<style scoped>\n",
       "    .dataframe tbody tr th:only-of-type {\n",
       "        vertical-align: middle;\n",
       "    }\n",
       "\n",
       "    .dataframe tbody tr th {\n",
       "        vertical-align: top;\n",
       "    }\n",
       "\n",
       "    .dataframe thead th {\n",
       "        text-align: right;\n",
       "    }\n",
       "</style>\n",
       "<table border=\"1\" class=\"dataframe\">\n",
       "  <thead>\n",
       "    <tr style=\"text-align: right;\">\n",
       "      <th></th>\n",
       "      <th>preferred_foot</th>\n",
       "      <th>agility</th>\n",
       "      <th>crossing</th>\n",
       "    </tr>\n",
       "  </thead>\n",
       "  <tbody>\n",
       "    <tr>\n",
       "      <th>23</th>\n",
       "      <td>left</td>\n",
       "      <td>81.0</td>\n",
       "      <td>77.0</td>\n",
       "    </tr>\n",
       "    <tr>\n",
       "      <th>47</th>\n",
       "      <td>right</td>\n",
       "      <td>81.0</td>\n",
       "      <td>73.0</td>\n",
       "    </tr>\n",
       "    <tr>\n",
       "      <th>71</th>\n",
       "      <td>right</td>\n",
       "      <td>63.0</td>\n",
       "      <td>56.0</td>\n",
       "    </tr>\n",
       "    <tr>\n",
       "      <th>95</th>\n",
       "      <td>right</td>\n",
       "      <td>49.0</td>\n",
       "      <td>45.0</td>\n",
       "    </tr>\n",
       "    <tr>\n",
       "      <th>119</th>\n",
       "      <td>left</td>\n",
       "      <td>78.0</td>\n",
       "      <td>77.0</td>\n",
       "    </tr>\n",
       "    <tr>\n",
       "      <th>...</th>\n",
       "      <td>...</td>\n",
       "      <td>...</td>\n",
       "      <td>...</td>\n",
       "    </tr>\n",
       "    <tr>\n",
       "      <th>183863</th>\n",
       "      <td>right</td>\n",
       "      <td>61.0</td>\n",
       "      <td>28.0</td>\n",
       "    </tr>\n",
       "    <tr>\n",
       "      <th>183887</th>\n",
       "      <td>left</td>\n",
       "      <td>85.0</td>\n",
       "      <td>67.0</td>\n",
       "    </tr>\n",
       "    <tr>\n",
       "      <th>183911</th>\n",
       "      <td>left</td>\n",
       "      <td>43.0</td>\n",
       "      <td>39.0</td>\n",
       "    </tr>\n",
       "    <tr>\n",
       "      <th>183935</th>\n",
       "      <td>right</td>\n",
       "      <td>69.0</td>\n",
       "      <td>42.0</td>\n",
       "    </tr>\n",
       "    <tr>\n",
       "      <th>183959</th>\n",
       "      <td>left</td>\n",
       "      <td>59.0</td>\n",
       "      <td>62.0</td>\n",
       "    </tr>\n",
       "  </tbody>\n",
       "</table>\n",
       "<p>7665 rows × 3 columns</p>\n",
       "</div>"
      ],
      "text/plain": [
       "       preferred_foot  agility  crossing\n",
       "23               left     81.0      77.0\n",
       "47              right     81.0      73.0\n",
       "71              right     63.0      56.0\n",
       "95              right     49.0      45.0\n",
       "119              left     78.0      77.0\n",
       "...               ...      ...       ...\n",
       "183863          right     61.0      28.0\n",
       "183887           left     85.0      67.0\n",
       "183911           left     43.0      39.0\n",
       "183935          right     69.0      42.0\n",
       "183959           left     59.0      62.0\n",
       "\n",
       "[7665 rows x 3 columns]"
      ]
     },
     "execution_count": 136,
     "metadata": {},
     "output_type": "execute_result"
    }
   ],
   "source": [
    "import math\n",
    "k= math.ceil(k)\n",
    "# escogemos un número al azar entre los primeros k \n",
    "u0 = np.random.randint(1, k)\n",
    "# y seleccionamos del data set , aquellos u(0 +k), u(0+2k), u(0+3k),.... u0+ (n2-1)k\n",
    "df2 = dff [u0 : N : k]\n",
    "df2\n"
   ]
  },
  {
   "cell_type": "code",
   "execution_count": 139,
   "id": "bb67c608",
   "metadata": {},
   "outputs": [
    {
     "data": {
      "text/html": [
       "<div>\n",
       "<style scoped>\n",
       "    .dataframe tbody tr th:only-of-type {\n",
       "        vertical-align: middle;\n",
       "    }\n",
       "\n",
       "    .dataframe tbody tr th {\n",
       "        vertical-align: top;\n",
       "    }\n",
       "\n",
       "    .dataframe thead th {\n",
       "        text-align: right;\n",
       "    }\n",
       "</style>\n",
       "<table border=\"1\" class=\"dataframe\">\n",
       "  <thead>\n",
       "    <tr style=\"text-align: right;\">\n",
       "      <th></th>\n",
       "      <th>agility</th>\n",
       "      <th>crossing</th>\n",
       "    </tr>\n",
       "  </thead>\n",
       "  <tbody>\n",
       "    <tr>\n",
       "      <th>count</th>\n",
       "      <td>7544.000000</td>\n",
       "      <td>7627.000000</td>\n",
       "    </tr>\n",
       "    <tr>\n",
       "      <th>mean</th>\n",
       "      <td>66.050239</td>\n",
       "      <td>55.142651</td>\n",
       "    </tr>\n",
       "    <tr>\n",
       "      <th>std</th>\n",
       "      <td>12.998088</td>\n",
       "      <td>17.146829</td>\n",
       "    </tr>\n",
       "    <tr>\n",
       "      <th>min</th>\n",
       "      <td>11.000000</td>\n",
       "      <td>5.000000</td>\n",
       "    </tr>\n",
       "    <tr>\n",
       "      <th>25%</th>\n",
       "      <td>58.000000</td>\n",
       "      <td>45.000000</td>\n",
       "    </tr>\n",
       "    <tr>\n",
       "      <th>50%</th>\n",
       "      <td>68.000000</td>\n",
       "      <td>59.000000</td>\n",
       "    </tr>\n",
       "    <tr>\n",
       "      <th>75%</th>\n",
       "      <td>75.000000</td>\n",
       "      <td>68.000000</td>\n",
       "    </tr>\n",
       "    <tr>\n",
       "      <th>max</th>\n",
       "      <td>96.000000</td>\n",
       "      <td>93.000000</td>\n",
       "    </tr>\n",
       "  </tbody>\n",
       "</table>\n",
       "</div>"
      ],
      "text/plain": [
       "           agility     crossing\n",
       "count  7544.000000  7627.000000\n",
       "mean     66.050239    55.142651\n",
       "std      12.998088    17.146829\n",
       "min      11.000000     5.000000\n",
       "25%      58.000000    45.000000\n",
       "50%      68.000000    59.000000\n",
       "75%      75.000000    68.000000\n",
       "max      96.000000    93.000000"
      ]
     },
     "execution_count": 139,
     "metadata": {},
     "output_type": "execute_result"
    }
   ],
   "source": [
    "# rempetimos mismas observaciones que con el muestreo aleatorio simple \n",
    "df2.describe()# observamos parecido en las desviaciones y la media"
   ]
  },
  {
   "cell_type": "code",
   "execution_count": 140,
   "id": "a166d8eb",
   "metadata": {},
   "outputs": [
    {
     "data": {
      "text/plain": [
       "right    5760\n",
       "left     1867\n",
       "Name: preferred_foot, dtype: int64"
      ]
     },
     "execution_count": 140,
     "metadata": {},
     "output_type": "execute_result"
    }
   ],
   "source": [
    "df2[\"preferred_foot\"].value_counts()# para mirar el porcentajes de diestros o zurdos, \n",
    "# "
   ]
  },
  {
   "cell_type": "code",
   "execution_count": 152,
   "id": "730fc643",
   "metadata": {},
   "outputs": [
    {
     "name": "stdout",
     "output_type": "stream",
     "text": [
      "0.7552117477382981  : porcentaje de diestro\n"
     ]
    }
   ],
   "source": [
    "y = 5760+1867\n",
    "print ( 5760/y, \" : porcentaje de diestro\")# y observamos una tendencia parecida al muestreo aleatorio simple. "
   ]
  },
  {
   "cell_type": "code",
   "execution_count": 143,
   "id": "e04f46a5",
   "metadata": {},
   "outputs": [
    {
     "data": {
      "text/plain": [
       "<AxesSubplot:ylabel='Frequency'>"
      ]
     },
     "execution_count": 143,
     "metadata": {},
     "output_type": "execute_result"
    },
    {
     "data": {
      "image/png": "[encoded data removed]",
      "text/plain": [
       "<Figure size 360x360 with 1 Axes>"
      ]
     },
     "metadata": {
      "needs_background": "light"
     },
     "output_type": "display_data"
    }
   ],
   "source": [
    "df2[\"agility\"].plot (kind = \"hist\", bins = 15\n",
    "                        , figsize= (5,5))"
   ]
  },
  {
   "cell_type": "code",
   "execution_count": 144,
   "id": "f631c55f",
   "metadata": {},
   "outputs": [
    {
     "data": {
      "text/plain": [
       "<AxesSubplot:ylabel='Frequency'>"
      ]
     },
     "execution_count": 144,
     "metadata": {},
     "output_type": "execute_result"
    },
    {
     "data": {
      "image/png": "[encoded data removed]",
      "text/plain": [
       "<Figure size 360x360 with 1 Axes>"
      ]
     },
     "metadata": {
      "needs_background": "light"
     },
     "output_type": "display_data"
    }
   ],
   "source": [
    "df2[\"crossing\"].plot (kind = \"hist\", bins = 15\n",
    "                        , figsize= (5,5)) # dónde en ambas gráficas podemos observar la misma tendencia que el muestreo simple\n",
    "# y la prueba piloto. \n"
   ]
  }
 ],
 "metadata": {
  "kernelspec": {
   "display_name": "Python 3 (ipykernel)",
   "language": "python",
   "name": "python3"
  },
  "language_info": {
   "codemirror_mode": {
    "name": "ipython",
    "version": 3
   },
   "file_extension": ".py",
   "mimetype": "text/x-python",
   "name": "python",
   "nbconvert_exporter": "python",
   "pygments_lexer": "ipython3",
   "version": "3.9.7"
  }
 },
 "nbformat": 4,
 "nbformat_minor": 5
}
